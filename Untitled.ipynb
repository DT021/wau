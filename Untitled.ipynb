{
 "cells": [
  {
   "cell_type": "code",
   "execution_count": 5,
   "metadata": {
    "collapsed": true
   },
   "outputs": [],
   "source": [
    "# -*- coding: utf-8 -*- \n",
    "import requests\n",
    "import re\n",
    "import urlparse\n",
    "import time\n",
    "import csv\n",
    "import json \n",
    "import codecs\n",
    "# In this example we're trying to collect e-mail addresses from a website\n",
    "\n",
    "# Basic e-mail regexp:\n",
    "# letter/number/dot/comma @ letter/number/dot/comma . letter/number\n",
    "# email_re = re.compile(r'([\\w\\.,]+@[\\w\\.,]+\\.\\w+)')\n",
    "\n",
    "# HTML <a> regexp\n",
    "# Matches href=\"\" attribute\n",
    "# link_re = re.compile(r'href=\"(.*?)\"')\n",
    "\n",
    "import csv, StringIO\n"
   ]
  },
  {
   "cell_type": "code",
   "execution_count": 15,
   "metadata": {
    "collapsed": false
   },
   "outputs": [
    {
     "name": "stdout",
     "output_type": "stream",
     "text": [
      "FATAL:  role \"dbuser\" does not exist\n",
      "\n"
     ]
    }
   ],
   "source": [
    "import psycopg2\n",
    "\n",
    "try:\n",
    "    conn = psycopg2.connect(\"dbname='naver_map' user='dbuser' host='localhost' password='dbpass'\")\n",
    "except Exception as error:\n",
    "    print error"
   ]
  },
  {
   "cell_type": "code",
   "execution_count": 6,
   "metadata": {
    "collapsed": true
   },
   "outputs": [],
   "source": [
    "\n",
    "class UnicodeWriter(object):\n",
    "    \n",
    "    def __init__(self, f, dialect=csv.excel_tab, encoding=\"utf-16\", **kwds):\n",
    "        # Redirect output to a queue\n",
    "        self.queue = StringIO.StringIO()\n",
    "        self.writer = csv.writer(self.queue, dialect=dialect, **kwds)\n",
    "        self.stream = f\n",
    "        self.encoding = encoding\n",
    "    \n",
    "    def writerow(self, row):\n",
    "        # Modified from original: now using unicode(s) to deal with e.g. ints\n",
    "        self.writer.writerow([unicode(s).encode(\"utf-8\") for s in row])\n",
    "        # Fetch UTF-8 output from the queue ...\n",
    "        data = self.queue.getvalue()\n",
    "        data = data.decode(\"utf-8\")\n",
    "        # ... and reencode it into the target encoding\n",
    "        data = data.encode(self.encoding)\n",
    "        # write to the target stream\n",
    "        self.stream.write(data)\n",
    "        # empty queue\n",
    "        self.queue.truncate(0)\n",
    "    \n",
    "    def writerows(self, rows):\n",
    "        for row in rows:\n",
    "            self.writerow(row)"
   ]
  },
  {
   "cell_type": "code",
   "execution_count": 7,
   "metadata": {
    "collapsed": true
   },
   "outputs": [],
   "source": [
    "class UnicodeDictWriter(UnicodeWriter):\n",
    "    def __init__(self, f, fields, dialect=csv.excel_tab,\n",
    "            encoding=\"utf-16\", **kwds):\n",
    "        super(UnicodeDictWriter, self).__init__(f, dialect, encoding, **kwds)\n",
    "        self.fields = fields\n",
    "    \n",
    "    def writerow(self, drow):\n",
    "        row = [drow.get(field, '') for field in self.fields]\n",
    "        super(UnicodeDictWriter, self).writerow(row)"
   ]
  },
  {
   "cell_type": "code",
   "execution_count": 4,
   "metadata": {
    "collapsed": false
   },
   "outputs": [
    {
     "ename": "IOError",
     "evalue": "[Errno 9] Bad file descriptor",
     "output_type": "error",
     "traceback": [
      "\u001b[0;31m---------------------------------------------------------------------------\u001b[0m",
      "\u001b[0;31mIOError\u001b[0m                                   Traceback (most recent call last)",
      "\u001b[0;32m<ipython-input-4-95c0c589eb45>\u001b[0m in \u001b[0;36m<module>\u001b[0;34m()\u001b[0m\n\u001b[1;32m    139\u001b[0m \u001b[0;34m\u001b[0m\u001b[0m\n\u001b[1;32m    140\u001b[0m \u001b[0;34m\u001b[0m\u001b[0m\n\u001b[0;32m--> 141\u001b[0;31m \u001b[0mmap_data\u001b[0m \u001b[0;34m=\u001b[0m \u001b[0mreadJson\u001b[0m\u001b[0;34m(\u001b[0m\u001b[0;34m)\u001b[0m\u001b[0;34m\u001b[0m\u001b[0m\n\u001b[0m\u001b[1;32m    142\u001b[0m \u001b[0;32mfor\u001b[0m \u001b[0meach\u001b[0m \u001b[0;32min\u001b[0m \u001b[0mmap_data\u001b[0m\u001b[0;34m:\u001b[0m\u001b[0;34m\u001b[0m\u001b[0m\n\u001b[1;32m    143\u001b[0m    \u001b[0;32mprint\u001b[0m \u001b[0meach\u001b[0m\u001b[0;34m[\u001b[0m\u001b[0;34m'name'\u001b[0m\u001b[0;34m]\u001b[0m\u001b[0;34m,\u001b[0m \u001b[0meach\u001b[0m\u001b[0;34m[\u001b[0m\u001b[0;34m'category'\u001b[0m\u001b[0;34m]\u001b[0m\u001b[0;34m,\u001b[0m\u001b[0;34m'x:'\u001b[0m\u001b[0;34m,\u001b[0m\u001b[0meach\u001b[0m\u001b[0;34m[\u001b[0m\u001b[0;34m'x'\u001b[0m\u001b[0;34m]\u001b[0m\u001b[0;34m,\u001b[0m \u001b[0;34m'y:'\u001b[0m\u001b[0;34m,\u001b[0m\u001b[0meach\u001b[0m\u001b[0;34m[\u001b[0m\u001b[0;34m'y'\u001b[0m\u001b[0;34m]\u001b[0m\u001b[0;34m,\u001b[0m \u001b[0meach\u001b[0m\u001b[0;34m[\u001b[0m\u001b[0;34m'address'\u001b[0m\u001b[0;34m]\u001b[0m\u001b[0;34m,\u001b[0m\u001b[0meach\u001b[0m\u001b[0;34m[\u001b[0m\u001b[0;34m'phone'\u001b[0m\u001b[0;34m]\u001b[0m\u001b[0;34m\u001b[0m\u001b[0m\n",
      "\u001b[0;32m<ipython-input-4-95c0c589eb45>\u001b[0m in \u001b[0;36mreadJson\u001b[0;34m()\u001b[0m\n\u001b[1;32m    127\u001b[0m \u001b[0;32mdef\u001b[0m \u001b[0mreadJson\u001b[0m\u001b[0;34m(\u001b[0m\u001b[0;34m)\u001b[0m\u001b[0;34m:\u001b[0m\u001b[0;34m\u001b[0m\u001b[0m\n\u001b[1;32m    128\u001b[0m     \u001b[0;32mwith\u001b[0m \u001b[0mopen\u001b[0m\u001b[0;34m(\u001b[0m\u001b[0;34m'map_data.json'\u001b[0m\u001b[0;34m,\u001b[0m \u001b[0;34m'wr'\u001b[0m\u001b[0;34m)\u001b[0m \u001b[0;32mas\u001b[0m \u001b[0mf\u001b[0m\u001b[0;34m:\u001b[0m\u001b[0;34m\u001b[0m\u001b[0m\n\u001b[0;32m--> 129\u001b[0;31m         \u001b[0mf\u001b[0m \u001b[0;34m=\u001b[0m \u001b[0;34m'['\u001b[0m\u001b[0;34m+\u001b[0m\u001b[0mf\u001b[0m\u001b[0;34m.\u001b[0m\u001b[0mread\u001b[0m\u001b[0;34m(\u001b[0m\u001b[0;34m)\u001b[0m\u001b[0;34m[\u001b[0m\u001b[0;34m:\u001b[0m\u001b[0;34m-\u001b[0m\u001b[0;36m1\u001b[0m\u001b[0;34m]\u001b[0m\u001b[0;34m+\u001b[0m\u001b[0;34m']'\u001b[0m\u001b[0;34m\u001b[0m\u001b[0m\n\u001b[0m\u001b[1;32m    130\u001b[0m         \u001b[0mdata\u001b[0m \u001b[0;34m=\u001b[0m \u001b[0mjson\u001b[0m\u001b[0;34m.\u001b[0m\u001b[0mloads\u001b[0m\u001b[0;34m(\u001b[0m\u001b[0mf\u001b[0m\u001b[0;34m)\u001b[0m\u001b[0;34m\u001b[0m\u001b[0m\n\u001b[1;32m    131\u001b[0m         \u001b[0;32mreturn\u001b[0m \u001b[0mdata\u001b[0m\u001b[0;34m\u001b[0m\u001b[0m\n",
      "\u001b[0;31mIOError\u001b[0m: [Errno 9] Bad file descriptor"
     ]
    }
   ],
   "source": [
    "def crawl():\n",
    "    base_url = 'http://map.naver.com/search2/getSiteInfo.nhn?id=p'\n",
    "    headers = {'Accept':'application/json, text/javascript, */*; q=0.01',\n",
    "    'Cookie':'npic=IhHf0sIV2sNKzQWajD4MaBwbICouHNRqL1nNOqO2UonEKdRkaylWM4W4CeiWb7PVCA==; NNB=5FIFGLS5NDWFG; WMONID=ZzV3T54OUA2; nsr_acl=1; BMR=s=1431578263011&r=http%3A%2F%2Ftvcast.naver.com%2Fv%2F368791%2Flist%2F33215&r2=http%3A%2F%2Ftvcast.naver.com%2Fv%2F366519; nid_inf=611665233; NID_AUT=9QZuR23S9LQ7QBjvLANeSh0M1EZ3+agZ/9aMV50PEtWhNBjpjMnae3Nn+cp9dARD; NID_SES=AAABThR1q17xHlztdAbeV9JamitaH1MHMr5F8HnuchL0JKOFaYBhzkycsGNFKqKnSfG3eYZeycNv28ELaNO9ueFAJC5fGjcw0mK3uxd5UInjv+nB7/2FmJGxCBIkoZZ8RiJNxea7RL6DVV/4xWkjwX0ym8I6zDf2nt4b8JjIlvG3S4SHzTZqb7R2lXEMrdy0ixXq1+zUm3EtOp/UC/NS5wxcX513F0gl8TNtEzEbjpD4oKBw8aIYj8+QQ+//CxkK3XItDBagxXMZ4F33AEK9XrK6iNVdI4+9fWM3fDphClhgy5K0M/8bvgajppPyt39fOEFpsV3pEQuMSkatFm7ioS52hdhKhVDI3oQXDPar37Yy41svh7lGvF46XHXr6GWuwrndUahdrKtC0FJ5iWBr9HcgmImq+FZ8J9r9qCMAV8/ecUjxzP1Q6nNFfskzlwUru56+Ow==; ns_load_time=1431690925387; ns_sid=45dc8c80-faf9-11e4-823e-836f0b3835a6; JSESSIONID=918A0B13C8717968F0C70A2B5FADFD9E; page_uid=SSUPrwpyLjRssa60D5RssssssZw-166244; _naver_usersession_=sMJVm/9grSbKBn0vg2lFzg==',\n",
    "    'Host':'map.naver.com',\n",
    "    'Referer':'http://map.naver.com/',\n",
    "    'User-Agent':'Mozilla/5.0 (Macintosh; Intel Mac OS X 10_10_3) AppleWebKit/537.36 (KHTML, like Gecko) Chrome/42.0.2311.135 Safari/537.36',\n",
    "    'X-Requested-With':'XMLHttpRequest'}\n",
    "\n",
    "    outfile = open('map_data19000.json','a')\n",
    "    start = time.time()\n",
    "\n",
    "    for idx in range(10000):\n",
    "\n",
    "        url = base_url+str(idx+29000)\n",
    "        # print url\n",
    "        res = requests.get(url,headers=headers)\n",
    "        \n",
    "        if idx%1000 == 0:\n",
    "            print idx+29000\n",
    "            print res.json()\n",
    "        try:\n",
    "\n",
    "            if 'result' in res.json():\n",
    "                map_dict = {}\n",
    "                result = res.json()['result']\n",
    "                json.dump(result, outfile)\n",
    "                outfile.write(',')\n",
    "            elif 'error' in res.json():\n",
    "                pass\n",
    "            else:\n",
    "                # print res.json()['error']['msg']\n",
    "                pass\n",
    "        except:\n",
    "            print res.text\n",
    "            break\n",
    "    # Check if successful\n",
    "    if(res.status_code != 200):\n",
    "        return []\n",
    "\n",
    "    end = time.time()\n",
    "    print end - start\n",
    "\n",
    "\n",
    "# crawl()\n",
    "# map_json = readJson()\n",
    "\n",
    "def readJson():\n",
    "    with open('map_data.json', 'wr') as f:\n",
    "        f = '['+f.read()[:-1]+']'\n",
    "        data = json.loads(f)\n",
    "        return data\n",
    "\n",
    "# import ijson\n",
    "\n",
    "# for prefix, theType, value in ijson.parse(open('map_data.json')):\n",
    "#     print prefix, theType, value\n",
    "\n",
    "\n",
    "\n",
    "\n",
    "map_data = readJson()\n",
    "for each in map_data:\n",
    "   print each['name'], each['category'],'x:',each['x'], 'y:',each['y'], each['address'],each['phone']\n",
    "\n",
    "# map_dict['id'] = result['id']\n",
    "            # map_dict['isSite'] = result['isSite']\n",
    "            # map_dict['name'] = result['name']\n",
    "            # map_dict['type'] = result['type']\n",
    "            # map_dict['x'] = result['x']\n",
    "            # map_dict['y'] = result['y']\n",
    "            # map_dict['posExact']= result['posExact']\n",
    "            # map_dict['address']= result['address']\n",
    "            # map_dict['roadAddr']= result['roadAddr']\n",
    "            # map_dict['phone']= result['phone']\n",
    "            # map_dict['isCallLink']= result['isCallLink']\n",
    "            # map_dict['displayHomepage']= result['displayHomepage']\n",
    "            # map_dict['landingHomepage']= result['landingHomepage']\n",
    "            # map_dict['ppc']= result['ppc']\n",
    "            # map_dict['ktCallMd']= result['ktCallMd']\n",
    "            # map_dict['couponUrl']= result['couponUrl']\n",
    "            # map_dict['imageURL']= result['imageURL']\n",
    "            # map_dict['imageModDate']= result['imageModDate']\n",
    "            # map_dict['point']= result['point']\n",
    "            # map_dict['starPoint']= result['starPoint']\n",
    "            # map_dict['pointCount']= result['pointCount']\n",
    "            # map_dict['reviewScoreDisplay']= result['reviewScoreDisplay']\n",
    "            # map_dict['description']= result['description']\n",
    "            # map_dict['reviewCount']= result['reviewCount']\n",
    "            # map_dict['reviewDisplay']= result['reviewDisplay']\n",
    "            # map_dict['category']= result['category']\n",
    "            # map_dict['streetPanorama']= result['streetPanorama']\n",
    "            # map_dict['skyPanorama']= result['skyPanorama']\n",
    "            # map_dict['insidePanorama']= result['insidePanorama']\n",
    "            # map_dict['interiorPanorama']= result['interiorPanorama']\n",
    "            # map_dict['bizHour']= result['bizHour']\n",
    "            # map_dict['options']= result['options']\n",
    "            # map_dict['indoor']= result['indoor']\n",
    "            # map_dict['poiInfo']= result['poiInfo']\n",
    "            # map_dict['itemMetaData']= result['itemMetaData']\n",
    "            # map_dict['subwayId']= result['subwayId']\n",
    "            # map_dict['endPageUrl']= result['endPageUrl']\n",
    "            # map_dict['entranceCoords']= result['entranceCoords']\n",
    "            # map_dict['movieInfo']= result['movieInfo']\n",
    "            # map_dict['petrolInfo']= result['petrolInfo']\n",
    "            # map_dict['theme']= result['theme']\n",
    "            # map_dict['hasCardBenefit']= result['hasCardBenefit']\n",
    "            # map_dict['isPollingPlace']= result['isPollingPlace']\n",
    "            # map_dict['menuExist']= result['menuExist']\n",
    "            # map_dict['isDeadUrl']= result['isDeadUrl']\n",
    "\n",
    "            # w = UnicodeWriter(outfile, map_dict.items())\n",
    "            # w.writerow(map_dict)\n",
    "\n",
    "\n"
   ]
  },
  {
   "cell_type": "code",
   "execution_count": null,
   "metadata": {
    "collapsed": true
   },
   "outputs": [],
   "source": []
  }
 ],
 "metadata": {
  "kernelspec": {
   "display_name": "Python 2",
   "language": "python",
   "name": "python2"
  },
  "language_info": {
   "codemirror_mode": {
    "name": "ipython",
    "version": 2
   },
   "file_extension": ".py",
   "mimetype": "text/x-python",
   "name": "python",
   "nbconvert_exporter": "python",
   "pygments_lexer": "ipython2",
   "version": "2.7.10"
  }
 },
 "nbformat": 4,
 "nbformat_minor": 0
}
